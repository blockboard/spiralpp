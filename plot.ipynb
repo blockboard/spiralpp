{
 "cells": [
  {
   "cell_type": "code",
   "execution_count": null,
   "metadata": {},
   "outputs": [],
   "source": [
    "import pandas as pd\n",
    "import matplotlib.pyplot as plt\n",
    "\n",
    "checkpointpath = \"/root/logs/torchbeast/latest/logs.csv\"\n",
    "\n",
    "df = pd.read_csv(checkpointpath)\n",
    "\n",
    "def single_plot(ax, key, window, df=df):\n",
    "    step = df[\"step\"].values\n",
    "    \n",
    "    y_0 = df[key].values\n",
    "    if window is None:\n",
    "        y = y_0\n",
    "    else:\n",
    "        y = df[key].rolling(window).mean().shift(-window // 2).values\n",
    "    out = ax.plot(step, y, label=key)\n",
    "\n",
    "    if window is not None:\n",
    "        c = out[0].get_color()\n",
    "        y = y_0\n",
    "\n",
    "        ax.plot(step, y, label=key, alpha=0.5, color=c)\n",
    "\n",
    "\n",
    "def configure(ax, key, y_label, title, log):\n",
    "    ax.set_xlabel(\"steps\")\n",
    "\n",
    "    if log:\n",
    "        ax.set_yscale(\"log\")\n",
    "\n",
    "    if y_label is None and isinstance(key, str):\n",
    "        ax.set_ylabel(key)\n",
    "\n",
    "    elif y_label is not None:\n",
    "        ax.set_ylabel(y_label)\n",
    "\n",
    "    if title is not None:\n",
    "        ax.set_title(title)\n",
    "\n",
    "    ax.minorticks_on()\n",
    "\n",
    "\n",
    "def plot(keys, index=None, y_label=None, title=None, window=None, log=False, df=df):\n",
    "    if isinstance(keys, list):\n",
    "        if index is None:\n",
    "            n_rows = len(keys)\n",
    "            n_cols = 1\n",
    "        else:\n",
    "            n_rows, n_cols = index\n",
    "\n",
    "        fig, ax = plt.subplots(n_rows, n_cols)\n",
    "\n",
    "        for i, key in enumerate(keys):\n",
    "            if n_rows * n_cols == 1:\n",
    "                axes = ax\n",
    "            else:\n",
    "                axes = ax[i]\n",
    "            single_plot(axes, keys[i], window, df)\n",
    "            axes.legend()\n",
    "\n",
    "            configure(axes, keys[i], y_label, title, log)\n",
    "\n",
    "    if isinstance(keys, str):\n",
    "        fig, ax = plt.subplots()\n",
    "        single_plot(ax, keys, window, df)\n",
    "\n",
    "        configure(ax, keys, y_label, title, log)"
   ]
  },
  {
   "cell_type": "code",
   "execution_count": null,
   "metadata": {
    "scrolled": false
   },
   "outputs": [],
   "source": [
    "plot([\"fake_loss\", \"real_loss\"], index=(1, 1), log=True)\n",
    "plot(\"D_loss\", log=True)"
   ]
  },
  {
   "cell_type": "code",
   "execution_count": null,
   "metadata": {},
   "outputs": [],
   "source": [
    "plot(\"mean_discriminator_return\", window=20, log=True)\n",
    "plot(\"mean_environment_return\")\n",
    "plot(\"mean_episode_return\")"
   ]
  },
  {
   "cell_type": "code",
   "execution_count": null,
   "metadata": {},
   "outputs": [],
   "source": [
    "plot(\"total_loss\")\n",
    "plot(\"pg_loss\")\n",
    "plot(\"baseline_loss\")\n",
    "plot(\"entropy_loss\")\n",
    "plot(\"n_discriminator_updates\")"
   ]
  },
  {
   "cell_type": "code",
   "execution_count": null,
   "metadata": {},
   "outputs": [],
   "source": []
  }
 ],
 "metadata": {
  "kernelspec": {
   "display_name": "Python 3",
   "language": "python",
   "name": "python3"
  },
  "language_info": {
   "codemirror_mode": {
    "name": "ipython",
    "version": 3
   },
   "file_extension": ".py",
   "mimetype": "text/x-python",
   "name": "python",
   "nbconvert_exporter": "python",
   "pygments_lexer": "ipython3",
   "version": "3.7.7"
  }
 },
 "nbformat": 4,
 "nbformat_minor": 4
}
