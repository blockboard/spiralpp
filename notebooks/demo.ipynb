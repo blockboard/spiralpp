{
 "cells": [
  {
   "cell_type": "code",
   "execution_count": 65,
   "metadata": {},
   "outputs": [
    {
     "name": "stdout",
     "output_type": "stream",
     "text": [
      "Requirement already satisfied: ipywidgets in /root/miniconda3/envs/spiralpp/lib/python3.7/site-packages (7.5.1)\n",
      "Requirement already satisfied: nbformat>=4.2.0 in /root/miniconda3/envs/spiralpp/lib/python3.7/site-packages (from ipywidgets) (5.0.7)\n",
      "Requirement already satisfied: ipykernel>=4.5.1 in /root/miniconda3/envs/spiralpp/lib/python3.7/site-packages (from ipywidgets) (5.3.4)\n",
      "Requirement already satisfied: ipython>=4.0.0; python_version >= \"3.3\" in /root/miniconda3/envs/spiralpp/lib/python3.7/site-packages (from ipywidgets) (7.17.0)\n",
      "Requirement already satisfied: traitlets>=4.3.1 in /root/miniconda3/envs/spiralpp/lib/python3.7/site-packages (from ipywidgets) (4.3.3)\n",
      "Requirement already satisfied: widgetsnbextension~=3.5.0 in /root/miniconda3/envs/spiralpp/lib/python3.7/site-packages (from ipywidgets) (3.5.1)\n",
      "Requirement already satisfied: jsonschema!=2.5.0,>=2.4 in /root/miniconda3/envs/spiralpp/lib/python3.7/site-packages (from nbformat>=4.2.0->ipywidgets) (3.2.0)\n",
      "Requirement already satisfied: ipython-genutils in /root/miniconda3/envs/spiralpp/lib/python3.7/site-packages (from nbformat>=4.2.0->ipywidgets) (0.2.0)\n",
      "Requirement already satisfied: jupyter-core in /root/miniconda3/envs/spiralpp/lib/python3.7/site-packages (from nbformat>=4.2.0->ipywidgets) (4.6.3)\n",
      "Requirement already satisfied: tornado>=4.2 in /root/miniconda3/envs/spiralpp/lib/python3.7/site-packages (from ipykernel>=4.5.1->ipywidgets) (6.0.4)\n",
      "Requirement already satisfied: jupyter-client in /root/miniconda3/envs/spiralpp/lib/python3.7/site-packages (from ipykernel>=4.5.1->ipywidgets) (6.1.6)\n",
      "Requirement already satisfied: pygments in /root/miniconda3/envs/spiralpp/lib/python3.7/site-packages (from ipython>=4.0.0; python_version >= \"3.3\"->ipywidgets) (2.6.1)\n",
      "Requirement already satisfied: setuptools>=18.5 in /root/miniconda3/envs/spiralpp/lib/python3.7/site-packages (from ipython>=4.0.0; python_version >= \"3.3\"->ipywidgets) (49.6.0.post20200814)\n",
      "Requirement already satisfied: pexpect; sys_platform != \"win32\" in /root/miniconda3/envs/spiralpp/lib/python3.7/site-packages (from ipython>=4.0.0; python_version >= \"3.3\"->ipywidgets) (4.8.0)\n",
      "Requirement already satisfied: prompt-toolkit!=3.0.0,!=3.0.1,<3.1.0,>=2.0.0 in /root/miniconda3/envs/spiralpp/lib/python3.7/site-packages (from ipython>=4.0.0; python_version >= \"3.3\"->ipywidgets) (3.0.6)\n",
      "Requirement already satisfied: jedi>=0.10 in /root/miniconda3/envs/spiralpp/lib/python3.7/site-packages (from ipython>=4.0.0; python_version >= \"3.3\"->ipywidgets) (0.17.2)\n",
      "Requirement already satisfied: backcall in /root/miniconda3/envs/spiralpp/lib/python3.7/site-packages (from ipython>=4.0.0; python_version >= \"3.3\"->ipywidgets) (0.2.0)\n",
      "Requirement already satisfied: decorator in /root/miniconda3/envs/spiralpp/lib/python3.7/site-packages (from ipython>=4.0.0; python_version >= \"3.3\"->ipywidgets) (4.4.2)\n",
      "Requirement already satisfied: pickleshare in /root/miniconda3/envs/spiralpp/lib/python3.7/site-packages (from ipython>=4.0.0; python_version >= \"3.3\"->ipywidgets) (0.7.5)\n",
      "Requirement already satisfied: six in /root/miniconda3/envs/spiralpp/lib/python3.7/site-packages (from traitlets>=4.3.1->ipywidgets) (1.15.0)\n",
      "Requirement already satisfied: notebook>=4.4.1 in /root/miniconda3/envs/spiralpp/lib/python3.7/site-packages (from widgetsnbextension~=3.5.0->ipywidgets) (6.1.3)\n",
      "Requirement already satisfied: importlib-metadata; python_version < \"3.8\" in /root/miniconda3/envs/spiralpp/lib/python3.7/site-packages (from jsonschema!=2.5.0,>=2.4->nbformat>=4.2.0->ipywidgets) (1.7.0)\n",
      "Requirement already satisfied: pyrsistent>=0.14.0 in /root/miniconda3/envs/spiralpp/lib/python3.7/site-packages (from jsonschema!=2.5.0,>=2.4->nbformat>=4.2.0->ipywidgets) (0.16.0)\n",
      "Requirement already satisfied: attrs>=17.4.0 in /root/miniconda3/envs/spiralpp/lib/python3.7/site-packages (from jsonschema!=2.5.0,>=2.4->nbformat>=4.2.0->ipywidgets) (20.1.0)\n",
      "Requirement already satisfied: pyzmq>=13 in /root/miniconda3/envs/spiralpp/lib/python3.7/site-packages (from jupyter-client->ipykernel>=4.5.1->ipywidgets) (19.0.2)\n",
      "Requirement already satisfied: python-dateutil>=2.1 in /root/miniconda3/envs/spiralpp/lib/python3.7/site-packages (from jupyter-client->ipykernel>=4.5.1->ipywidgets) (2.8.1)\n",
      "Requirement already satisfied: ptyprocess>=0.5 in /root/miniconda3/envs/spiralpp/lib/python3.7/site-packages (from pexpect; sys_platform != \"win32\"->ipython>=4.0.0; python_version >= \"3.3\"->ipywidgets) (0.6.0)\n",
      "Requirement already satisfied: wcwidth in /root/miniconda3/envs/spiralpp/lib/python3.7/site-packages (from prompt-toolkit!=3.0.0,!=3.0.1,<3.1.0,>=2.0.0->ipython>=4.0.0; python_version >= \"3.3\"->ipywidgets) (0.2.5)\n",
      "Requirement already satisfied: parso<0.8.0,>=0.7.0 in /root/miniconda3/envs/spiralpp/lib/python3.7/site-packages (from jedi>=0.10->ipython>=4.0.0; python_version >= \"3.3\"->ipywidgets) (0.7.1)\n",
      "Requirement already satisfied: nbconvert in /root/miniconda3/envs/spiralpp/lib/python3.7/site-packages (from notebook>=4.4.1->widgetsnbextension~=3.5.0->ipywidgets) (5.6.1)\n",
      "Requirement already satisfied: terminado>=0.8.3 in /root/miniconda3/envs/spiralpp/lib/python3.7/site-packages (from notebook>=4.4.1->widgetsnbextension~=3.5.0->ipywidgets) (0.8.3)\n",
      "Requirement already satisfied: argon2-cffi in /root/miniconda3/envs/spiralpp/lib/python3.7/site-packages (from notebook>=4.4.1->widgetsnbextension~=3.5.0->ipywidgets) (20.1.0)\n",
      "Requirement already satisfied: jinja2 in /root/miniconda3/envs/spiralpp/lib/python3.7/site-packages (from notebook>=4.4.1->widgetsnbextension~=3.5.0->ipywidgets) (2.11.2)\n",
      "Requirement already satisfied: prometheus-client in /root/miniconda3/envs/spiralpp/lib/python3.7/site-packages (from notebook>=4.4.1->widgetsnbextension~=3.5.0->ipywidgets) (0.8.0)\n",
      "Requirement already satisfied: Send2Trash in /root/miniconda3/envs/spiralpp/lib/python3.7/site-packages (from notebook>=4.4.1->widgetsnbextension~=3.5.0->ipywidgets) (1.5.0)\n",
      "Requirement already satisfied: zipp>=0.5 in /root/miniconda3/envs/spiralpp/lib/python3.7/site-packages (from importlib-metadata; python_version < \"3.8\"->jsonschema!=2.5.0,>=2.4->nbformat>=4.2.0->ipywidgets) (3.1.0)\n",
      "Requirement already satisfied: bleach in /root/miniconda3/envs/spiralpp/lib/python3.7/site-packages (from nbconvert->notebook>=4.4.1->widgetsnbextension~=3.5.0->ipywidgets) (3.1.5)\n",
      "Requirement already satisfied: mistune<2,>=0.8.1 in /root/miniconda3/envs/spiralpp/lib/python3.7/site-packages (from nbconvert->notebook>=4.4.1->widgetsnbextension~=3.5.0->ipywidgets) (0.8.4)\n",
      "Requirement already satisfied: entrypoints>=0.2.2 in /root/miniconda3/envs/spiralpp/lib/python3.7/site-packages (from nbconvert->notebook>=4.4.1->widgetsnbextension~=3.5.0->ipywidgets) (0.3)\n",
      "Requirement already satisfied: pandocfilters>=1.4.1 in /root/miniconda3/envs/spiralpp/lib/python3.7/site-packages (from nbconvert->notebook>=4.4.1->widgetsnbextension~=3.5.0->ipywidgets) (1.4.2)\n",
      "Requirement already satisfied: defusedxml in /root/miniconda3/envs/spiralpp/lib/python3.7/site-packages (from nbconvert->notebook>=4.4.1->widgetsnbextension~=3.5.0->ipywidgets) (0.6.0)\n",
      "Requirement already satisfied: testpath in /root/miniconda3/envs/spiralpp/lib/python3.7/site-packages (from nbconvert->notebook>=4.4.1->widgetsnbextension~=3.5.0->ipywidgets) (0.4.4)\n",
      "Requirement already satisfied: cffi>=1.0.0 in /root/miniconda3/envs/spiralpp/lib/python3.7/site-packages (from argon2-cffi->notebook>=4.4.1->widgetsnbextension~=3.5.0->ipywidgets) (1.14.1)\n",
      "Requirement already satisfied: MarkupSafe>=0.23 in /root/miniconda3/envs/spiralpp/lib/python3.7/site-packages (from jinja2->notebook>=4.4.1->widgetsnbextension~=3.5.0->ipywidgets) (1.1.1)\n",
      "Requirement already satisfied: packaging in /root/miniconda3/envs/spiralpp/lib/python3.7/site-packages (from bleach->nbconvert->notebook>=4.4.1->widgetsnbextension~=3.5.0->ipywidgets) (20.4)\n",
      "Requirement already satisfied: webencodings in /root/miniconda3/envs/spiralpp/lib/python3.7/site-packages (from bleach->nbconvert->notebook>=4.4.1->widgetsnbextension~=3.5.0->ipywidgets) (0.5.1)\n",
      "Requirement already satisfied: pycparser in /root/miniconda3/envs/spiralpp/lib/python3.7/site-packages (from cffi>=1.0.0->argon2-cffi->notebook>=4.4.1->widgetsnbextension~=3.5.0->ipywidgets) (2.20)\n",
      "Requirement already satisfied: pyparsing>=2.0.2 in /root/miniconda3/envs/spiralpp/lib/python3.7/site-packages (from packaging->bleach->nbconvert->notebook>=4.4.1->widgetsnbextension~=3.5.0->ipywidgets) (2.4.7)\n"
     ]
    }
   ],
   "source": [
    "!pip install ipywidgets\n",
    "\n",
    "import nest\n",
    "import torch\n",
    "import matplotlib.pyplot as plt\n",
    "\n",
    "from torchbeast import utils\n",
    "from torchbeast.core import models"
   ]
  },
  {
   "cell_type": "code",
   "execution_count": 72,
   "metadata": {},
   "outputs": [],
   "source": [
    "# path to flags.savedir/flags.xpid/model.tar\n",
    "checkpointpath = \"~/logs/torchbeast/torchbeast-20200818-180423/model.tar\"\n",
    "checkpointpath=\"./gp4/model.tar\"\n",
    "\n",
    "checkpoint_states = torch.load(checkpointpath)\n",
    "\n",
    "flags = checkpoint_states[\"flags\"]\n",
    "\n",
    "class dotdict(dict):\n",
    "    \"\"\"dot.notation access to dictionary attributes\"\"\"\n",
    "    __getattr__ = dict.get\n",
    "    __setattr__ = dict.__setitem__\n",
    "    __delattr__ = dict.__delitem__\n",
    "    \n",
    "flags = dotdict(flags)\n",
    "\n",
    "checkpoint_states = torch.load(checkpointpath, map_location=flags.learner_device)\n",
    "flags = dotdict(flags)"
   ]
  },
  {
   "cell_type": "code",
   "execution_count": 73,
   "metadata": {},
   "outputs": [],
   "source": [
    "dataset_uses_color = flags.dataset not in [\"mnist\", \"omniglot\"]\n",
    "grayscale = dataset_uses_color and not flags.use_color\n",
    "\n",
    "env_uses_color = flags.use_color or flags.env_type == \"fluid\"\n",
    "if env_uses_color is False:\n",
    "    grayscale = True\n",
    "else:\n",
    "    grayscale = is_color and not dataset_uses_color\n",
    "\n",
    "if flags.condition:\n",
    "    dataset = utils.create_dataset(flags.dataset, grayscale)\n",
    "else:\n",
    "    dataset = None\n",
    "    \n",
    "env_name, config = utils.parse_flags(flags)\n",
    "env = utils.create_env(env_name, config, grayscale=True, dataset=dataset)"
   ]
  },
  {
   "cell_type": "code",
   "execution_count": 75,
   "metadata": {},
   "outputs": [],
   "source": [
    "grid_width = 32\n",
    "\n",
    "obs_shape = env.observation_space[\"canvas\"].shape\n",
    "action_shape = env.action_space.nvec\n",
    "order = env.order\n",
    "\n",
    "model = models.Net(\n",
    "    obs_shape=obs_shape,\n",
    "    order=order,\n",
    "    action_shape=action_shape,\n",
    "    grid_shape=(grid_width, grid_width),\n",
    "\n",
    ").eval()\n",
    "\n",
    "model = model.to(device=flags.learner_device)\n",
    "model.load_state_dict(checkpoint_states[\"model_state_dict\"])"
   ]
  },
  {
   "cell_type": "code",
   "execution_count": 76,
   "metadata": {},
   "outputs": [
    {
     "data": {
      "text/plain": [
       "<matplotlib.image.AxesImage at 0x7f30c48144d0>"
      ]
     },
     "execution_count": 76,
     "metadata": {},
     "output_type": "execute_result"
    },
    {
     "data": {
      "image/png": "[encoded data removed]",
      "text/plain": [
       "<Figure size 360x360 with 1 Axes>"
      ]
     },
     "metadata": {
      "needs_background": "light"
     },
     "output_type": "display_data"
    }
   ],
   "source": [
    "obs = env.reset()\n",
    "for k in obs.keys():\n",
    "    obs[k] = torch.from_numpy(obs[k]).unsqueeze(0).unsqueeze(0)\n",
    "done = torch.tensor([[False]])\n",
    "core_state = model.initial_state()\n",
    "\n",
    "for i in range(flags.episode_length):\n",
    "    (action, logits, baseline), core_state = model(obs, done, core_state)\n",
    "    action = torch.flatten(action, 0, 1).int().numpy()\n",
    "    action = env.action_space.sample()\n",
    "    obs, reward, done, info = env.step(action)\n",
    "    done = torch.tensor([[done]])\n",
    "    for k in obs.keys():\n",
    "        obs[k] = torch.from_numpy(obs[k]).unsqueeze(0).unsqueeze(0)\n",
    "        # prev_action's original shape has batch dimension\n",
    "        if k == \"prev_action\":\n",
    "            obs[k] = obs[k].view(1, 1, -1)\n",
    "\n",
    "img = obs[\"canvas\"].view(obs_shape).permute(1, 2, 0).numpy()\n",
    "plt.figure(figsize=(5, 5))\n",
    "plt.imshow(img, cmap='gray', interpolation=\"nearest\")"
   ]
  },
  {
   "cell_type": "code",
   "execution_count": null,
   "metadata": {},
   "outputs": [],
   "source": []
  }
 ],
 "metadata": {
  "kernelspec": {
   "display_name": "Python 3",
   "language": "python",
   "name": "python3"
  },
  "language_info": {
   "codemirror_mode": {
    "name": "ipython",
    "version": 3
   },
   "file_extension": ".py",
   "mimetype": "text/x-python",
   "name": "python",
   "nbconvert_exporter": "python",
   "pygments_lexer": "ipython3",
   "version": "3.7.7"
  }
 },
 "nbformat": 4,
 "nbformat_minor": 4
}
